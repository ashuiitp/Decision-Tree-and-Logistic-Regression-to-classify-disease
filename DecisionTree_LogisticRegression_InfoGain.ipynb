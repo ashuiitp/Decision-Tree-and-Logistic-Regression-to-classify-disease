{
  "nbformat": 4,
  "nbformat_minor": 0,
  "metadata": {
    "kernelspec": {
      "display_name": "Python 3",
      "language": "python",
      "name": "python3"
    },
    "language_info": {
      "codemirror_mode": {
        "name": "ipython",
        "version": 3
      },
      "file_extension": ".py",
      "mimetype": "text/x-python",
      "name": "python",
      "nbconvert_exporter": "python",
      "pygments_lexer": "ipython3",
      "version": "3.8.3"
    },
    "colab": {
      "name": "github_DecisiontTreeu_infoGain.ipynb",
      "provenance": [],
      "collapsed_sections": [],
      "toc_visible": true
    }
  },
  "cells": [
    {
      "cell_type": "markdown",
      "metadata": {
        "id": "LJ5Gq0kZAWlW"
      },
      "source": [
        "# QUESTION 1"
      ]
    },
    {
      "cell_type": "markdown",
      "metadata": {
        "id": "CzSaB8i8AWlc"
      },
      "source": [
        "# DECISION TREE CODE BASED ON INFORMATION GAIN"
      ]
    },
    {
      "cell_type": "code",
      "metadata": {
        "id": "89gDVCtMAWld"
      },
      "source": [
        "import numpy as np\n",
        "import pandas as pd\n",
        "import random\n",
        "from pprint import pprint"
      ],
      "execution_count": null,
      "outputs": []
    },
    {
      "cell_type": "code",
      "metadata": {
        "id": "UdsAg7UsAWld",
        "outputId": "2adae84d-95e7-495a-fd3c-c3ffe3f3df49"
      },
      "source": [
        "df = pd.read_csv('heart.csv')\n",
        "df.shape"
      ],
      "execution_count": null,
      "outputs": [
        {
          "output_type": "execute_result",
          "data": {
            "text/plain": [
              "(303, 14)"
            ]
          },
          "metadata": {
            "tags": []
          },
          "execution_count": 2
        }
      ]
    },
    {
      "cell_type": "code",
      "metadata": {
        "id": "ANo860BfAWle",
        "outputId": "99f60a43-b4c6-4a27-9d70-20fbebde2ca9"
      },
      "source": [
        "df.head()"
      ],
      "execution_count": null,
      "outputs": [
        {
          "output_type": "execute_result",
          "data": {
            "text/html": [
              "<div>\n",
              "<style scoped>\n",
              "    .dataframe tbody tr th:only-of-type {\n",
              "        vertical-align: middle;\n",
              "    }\n",
              "\n",
              "    .dataframe tbody tr th {\n",
              "        vertical-align: top;\n",
              "    }\n",
              "\n",
              "    .dataframe thead th {\n",
              "        text-align: right;\n",
              "    }\n",
              "</style>\n",
              "<table border=\"1\" class=\"dataframe\">\n",
              "  <thead>\n",
              "    <tr style=\"text-align: right;\">\n",
              "      <th></th>\n",
              "      <th>age</th>\n",
              "      <th>sex</th>\n",
              "      <th>cp</th>\n",
              "      <th>trestbps</th>\n",
              "      <th>chol</th>\n",
              "      <th>fbs</th>\n",
              "      <th>restecg</th>\n",
              "      <th>thalach</th>\n",
              "      <th>exang</th>\n",
              "      <th>oldpeak</th>\n",
              "      <th>slope</th>\n",
              "      <th>ca</th>\n",
              "      <th>thal</th>\n",
              "      <th>target</th>\n",
              "    </tr>\n",
              "  </thead>\n",
              "  <tbody>\n",
              "    <tr>\n",
              "      <th>0</th>\n",
              "      <td>63</td>\n",
              "      <td>1</td>\n",
              "      <td>3</td>\n",
              "      <td>145</td>\n",
              "      <td>233</td>\n",
              "      <td>1</td>\n",
              "      <td>0</td>\n",
              "      <td>150</td>\n",
              "      <td>0</td>\n",
              "      <td>2.3</td>\n",
              "      <td>0</td>\n",
              "      <td>0</td>\n",
              "      <td>1</td>\n",
              "      <td>1</td>\n",
              "    </tr>\n",
              "    <tr>\n",
              "      <th>1</th>\n",
              "      <td>37</td>\n",
              "      <td>1</td>\n",
              "      <td>2</td>\n",
              "      <td>130</td>\n",
              "      <td>250</td>\n",
              "      <td>0</td>\n",
              "      <td>1</td>\n",
              "      <td>187</td>\n",
              "      <td>0</td>\n",
              "      <td>3.5</td>\n",
              "      <td>0</td>\n",
              "      <td>0</td>\n",
              "      <td>2</td>\n",
              "      <td>1</td>\n",
              "    </tr>\n",
              "    <tr>\n",
              "      <th>2</th>\n",
              "      <td>41</td>\n",
              "      <td>0</td>\n",
              "      <td>1</td>\n",
              "      <td>130</td>\n",
              "      <td>204</td>\n",
              "      <td>0</td>\n",
              "      <td>0</td>\n",
              "      <td>172</td>\n",
              "      <td>0</td>\n",
              "      <td>1.4</td>\n",
              "      <td>2</td>\n",
              "      <td>0</td>\n",
              "      <td>2</td>\n",
              "      <td>1</td>\n",
              "    </tr>\n",
              "    <tr>\n",
              "      <th>3</th>\n",
              "      <td>56</td>\n",
              "      <td>1</td>\n",
              "      <td>1</td>\n",
              "      <td>120</td>\n",
              "      <td>236</td>\n",
              "      <td>0</td>\n",
              "      <td>1</td>\n",
              "      <td>178</td>\n",
              "      <td>0</td>\n",
              "      <td>0.8</td>\n",
              "      <td>2</td>\n",
              "      <td>0</td>\n",
              "      <td>2</td>\n",
              "      <td>1</td>\n",
              "    </tr>\n",
              "    <tr>\n",
              "      <th>4</th>\n",
              "      <td>57</td>\n",
              "      <td>0</td>\n",
              "      <td>0</td>\n",
              "      <td>120</td>\n",
              "      <td>354</td>\n",
              "      <td>0</td>\n",
              "      <td>1</td>\n",
              "      <td>163</td>\n",
              "      <td>1</td>\n",
              "      <td>0.6</td>\n",
              "      <td>2</td>\n",
              "      <td>0</td>\n",
              "      <td>2</td>\n",
              "      <td>1</td>\n",
              "    </tr>\n",
              "  </tbody>\n",
              "</table>\n",
              "</div>"
            ],
            "text/plain": [
              "   age  sex  cp  trestbps  chol  fbs  restecg  thalach  exang  oldpeak  slope  \\\n",
              "0   63    1   3       145   233    1        0      150      0      2.3      0   \n",
              "1   37    1   2       130   250    0        1      187      0      3.5      0   \n",
              "2   41    0   1       130   204    0        0      172      0      1.4      2   \n",
              "3   56    1   1       120   236    0        1      178      0      0.8      2   \n",
              "4   57    0   0       120   354    0        1      163      1      0.6      2   \n",
              "\n",
              "   ca  thal  target  \n",
              "0   0     1       1  \n",
              "1   0     2       1  \n",
              "2   0     2       1  \n",
              "3   0     2       1  \n",
              "4   0     2       1  "
            ]
          },
          "metadata": {
            "tags": []
          },
          "execution_count": 3
        }
      ]
    },
    {
      "cell_type": "markdown",
      "metadata": {
        "id": "OngOs0nfAWlf"
      },
      "source": [
        "#### Split training and testing data"
      ]
    },
    {
      "cell_type": "code",
      "metadata": {
        "id": "CZCJbxOOAWlf"
      },
      "source": [
        "def train_test_split(df, test_size):\n",
        "    \n",
        "    if isinstance(test_size, float):\n",
        "        test_size = round(test_size * len(df))\n",
        "    indices = df.index.tolist()\n",
        "    test_indices = random.sample(population=indices, k=test_size)\n",
        "    test_df = df.loc[test_indices]\n",
        "    train_df = df.drop(test_indices)\n",
        "    \n",
        "    return train_df, test_df"
      ],
      "execution_count": null,
      "outputs": []
    },
    {
      "cell_type": "code",
      "metadata": {
        "id": "9MT1g1qNAWlf"
      },
      "source": [
        "random.seed(100)\n",
        "train_df, test_df = train_test_split(df, test_size=30)"
      ],
      "execution_count": null,
      "outputs": []
    },
    {
      "cell_type": "code",
      "metadata": {
        "id": "h2KN3Wn_AWlf"
      },
      "source": [
        "data = train_df.values"
      ],
      "execution_count": null,
      "outputs": []
    },
    {
      "cell_type": "markdown",
      "metadata": {
        "id": "Hy__W-JNAWlg"
      },
      "source": [
        "#### Check for unique class"
      ]
    },
    {
      "cell_type": "code",
      "metadata": {
        "id": "JJadOB3jAWlg"
      },
      "source": [
        "def check_purity(data):\n",
        "    \n",
        "    label_column = data[:, -1]\n",
        "    unique_classes = np.unique(label_column)\n",
        "\n",
        "    if len(unique_classes) == 1:\n",
        "        return True\n",
        "    else:\n",
        "        return False"
      ],
      "execution_count": null,
      "outputs": []
    },
    {
      "cell_type": "code",
      "metadata": {
        "id": "_RPqd2nMAWlg"
      },
      "source": [
        "def classify_data(data):\n",
        "    \n",
        "    label_column = data[:, -1]\n",
        "    unique_classes, counts_unique_classes = np.unique(label_column, return_counts=True)\n",
        "\n",
        "    index = counts_unique_classes.argmax()\n",
        "    classification = unique_classes[index]\n",
        "    \n",
        "    return classification"
      ],
      "execution_count": null,
      "outputs": []
    },
    {
      "cell_type": "markdown",
      "metadata": {
        "id": "3ih-KH9nAWlg"
      },
      "source": [
        "#### Potential splits"
      ]
    },
    {
      "cell_type": "code",
      "metadata": {
        "id": "3mRNRUjAAWlg"
      },
      "source": [
        "def get_potential_splits(data):\n",
        "    \n",
        "    potential_splits = {}\n",
        "    _, n_columns = data.shape\n",
        "    for column_idx in range(n_columns - 1):        \n",
        "        potential_splits[column_idx] = []\n",
        "        values = data[:, column_idx]\n",
        "        unique_values = np.unique(values)\n",
        "\n",
        "        for i in range(len(unique_values)):\n",
        "            if i != 0:\n",
        "                current_value = unique_values[i]\n",
        "                previous_value = unique_values[i - 1]\n",
        "                potential_split = (current_value + previous_value) / 2\n",
        "                \n",
        "                potential_splits[column_idx].append(potential_split)\n",
        "    \n",
        "    return potential_splits"
      ],
      "execution_count": null,
      "outputs": []
    },
    {
      "cell_type": "code",
      "metadata": {
        "id": "wEw9pT1KAWlh"
      },
      "source": [
        "def split_data(data, split_column, split_value):\n",
        "    \n",
        "    split_column_values = data[:, split_column]\n",
        "\n",
        "    data_below = data[split_column_values <= split_value]\n",
        "    data_above = data[split_column_values >  split_value]\n",
        "    \n",
        "    return data_below, data_above"
      ],
      "execution_count": null,
      "outputs": []
    },
    {
      "cell_type": "markdown",
      "metadata": {
        "id": "0fQU9caCAWlh"
      },
      "source": [
        "#### information gain calculation"
      ]
    },
    {
      "cell_type": "code",
      "metadata": {
        "id": "iBXNI6kjAWlh"
      },
      "source": [
        "#calculate information gain for data\n",
        "def calculate_info_gain(data):\n",
        "    \n",
        "    label_column = data[:, -1]\n",
        "    _, counts = np.unique(label_column, return_counts=True)\n",
        "\n",
        "    probabilities = counts / counts.sum()\n",
        "    info_gain = sum(probabilities * -np.log2(probabilities))\n",
        "     \n",
        "    return info_gain"
      ],
      "execution_count": null,
      "outputs": []
    },
    {
      "cell_type": "code",
      "metadata": {
        "id": "Y-cTO0K6AWlh"
      },
      "source": [
        "#calculate overall informaton gain for the splits \n",
        "def calculate_overall_info_gain(data_below, data_above):\n",
        "    \n",
        "    n = len(data_below) + len(data_above)\n",
        "    p_data_below = len(data_below) / n\n",
        "    p_data_above = len(data_above) / n\n",
        "\n",
        "    overall_info_gain =  (p_data_below * calculate_info_gain(data_below) + p_data_above * calculate_info_gain(data_above))\n",
        "    \n",
        "    return overall_info_gain"
      ],
      "execution_count": null,
      "outputs": []
    },
    {
      "cell_type": "markdown",
      "metadata": {
        "id": "2f_iTLa1AWli"
      },
      "source": [
        "#### Best split "
      ]
    },
    {
      "cell_type": "code",
      "metadata": {
        "id": "k-15Br6oAWli"
      },
      "source": [
        "#determning best splits based on information gain\n",
        "def determine_best_split(data, potential_splits):\n",
        "    \n",
        "    overall_info_gain = 9999\n",
        "    for column_index in potential_splits:\n",
        "        for value in potential_splits[column_index]:\n",
        "            data_below, data_above = split_data(data, split_column=column_index, split_value=value)\n",
        "            current_overall_info_gain = calculate_overall_info_gain(data_below, data_above)\n",
        "\n",
        "            if current_overall_info_gain <= overall_info_gain:\n",
        "                overall_info_gain = current_overall_info_gain\n",
        "                best_split_column = column_index\n",
        "                best_split_value = value\n",
        "    \n",
        "    return best_split_column, best_split_value"
      ],
      "execution_count": null,
      "outputs": []
    },
    {
      "cell_type": "code",
      "metadata": {
        "id": "fTqr7UGsAWli"
      },
      "source": [
        "sub_tree = {\"question\": [\"yes_answer\", \n",
        "                         \"no_answer\"]}"
      ],
      "execution_count": null,
      "outputs": []
    },
    {
      "cell_type": "markdown",
      "metadata": {
        "id": "rPrvATmkAWli"
      },
      "source": [
        "#### Algorithm"
      ]
    },
    {
      "cell_type": "code",
      "metadata": {
        "id": "CWAE_zrqAWli"
      },
      "source": [
        "def decision_tree_algorithm(df, counter=0, min_samples=2, max_depth=3):\n",
        "    \n",
        "    # data preparations\n",
        "    if counter == 0:\n",
        "        global COLUMN_HEADERS\n",
        "        COLUMN_HEADERS = df.columns\n",
        "        data = df.values\n",
        "    else:\n",
        "        data = df           \n",
        "    \n",
        "    \n",
        "    # base cases\n",
        "    if (check_purity(data)) or (len(data) < min_samples) or (counter == max_depth):\n",
        "        classification = classify_data(data)\n",
        "        \n",
        "        return classification\n",
        "\n",
        "    \n",
        "    # recursive part\n",
        "    else:    \n",
        "        counter += 1\n",
        "\n",
        "        # helper functions \n",
        "        potential_splits = get_potential_splits(data)\n",
        "        split_column, split_value = determine_best_split(data, potential_splits)\n",
        "        data_below, data_above = split_data(data, split_column, split_value)\n",
        "        \n",
        "        # sub-tree\n",
        "        feature_name = COLUMN_HEADERS[split_column]\n",
        "        question = \"{} <= {}\".format(feature_name, split_value)\n",
        "        sub_tree = {question: []}\n",
        "        \n",
        "        # find answers (recursion)\n",
        "        yes_answer = decision_tree_algorithm(data_below, counter, min_samples, max_depth)\n",
        "        no_answer = decision_tree_algorithm(data_above, counter, min_samples, max_depth)\n",
        "        \n",
        "    \n",
        "        if yes_answer == no_answer:\n",
        "            sub_tree = yes_answer\n",
        "        else:\n",
        "            sub_tree[question].append(yes_answer)\n",
        "            sub_tree[question].append(no_answer)\n",
        "        \n",
        "        return sub_tree"
      ],
      "execution_count": null,
      "outputs": []
    },
    {
      "cell_type": "code",
      "metadata": {
        "id": "9rtBzA_qAWlj",
        "outputId": "74e9a966-40e3-4307-c05a-2c4a1362a7b3"
      },
      "source": [
        "tree = decision_tree_algorithm(train_df, max_depth=3)\n",
        "pprint(tree)"
      ],
      "execution_count": null,
      "outputs": [
        {
          "output_type": "stream",
          "text": [
            "{'cp <= 0.5': [{'ca <= 0.5': [{'thal <= 2.5': [1.0, 0.0]}, 0.0]},\n",
            "               {'age <= 56.5': [1.0, {'sex <= 0.5': [1.0, 0.0]}]}]}\n"
          ],
          "name": "stdout"
        }
      ]
    },
    {
      "cell_type": "code",
      "metadata": {
        "id": "aA8Od664AWlj",
        "outputId": "9b10db68-0d61-49c5-9c07-44d0889646b1"
      },
      "source": [
        "sub_tree"
      ],
      "execution_count": null,
      "outputs": [
        {
          "output_type": "execute_result",
          "data": {
            "text/plain": [
              "{'question': ['yes_answer', 'no_answer']}"
            ]
          },
          "metadata": {
            "tags": []
          },
          "execution_count": 17
        }
      ]
    },
    {
      "cell_type": "code",
      "metadata": {
        "id": "61gQFuD2AWlk",
        "outputId": "5d313f9c-65f5-480b-cd0b-416953789bf2"
      },
      "source": [
        "example = test_df.iloc[0]\n",
        "example"
      ],
      "execution_count": null,
      "outputs": [
        {
          "output_type": "execute_result",
          "data": {
            "text/plain": [
              "age          43.0\n",
              "sex           0.0\n",
              "cp            2.0\n",
              "trestbps    122.0\n",
              "chol        213.0\n",
              "fbs           0.0\n",
              "restecg       1.0\n",
              "thalach     165.0\n",
              "exang         0.0\n",
              "oldpeak       0.2\n",
              "slope         1.0\n",
              "ca            0.0\n",
              "thal          2.0\n",
              "target        1.0\n",
              "Name: 74, dtype: float64"
            ]
          },
          "metadata": {
            "tags": []
          },
          "execution_count": 18
        }
      ]
    },
    {
      "cell_type": "markdown",
      "metadata": {
        "id": "GesrdNftAWlk"
      },
      "source": [
        "#### Classification"
      ]
    },
    {
      "cell_type": "code",
      "metadata": {
        "id": "Cej7a9axAWlk"
      },
      "source": [
        "def classify_example(example, tree):\n",
        "    question = list(tree.keys())[0]\n",
        "    feature_name, comparison_operator, value = question.split()\n",
        "\n",
        "    # ask question\n",
        "    if example[feature_name] <= float(value):\n",
        "        answer = tree[question][0]\n",
        "    else:\n",
        "        answer = tree[question][1]\n",
        "\n",
        "    # base case\n",
        "    if not isinstance(answer, dict):\n",
        "        return answer\n",
        "    \n",
        "    # recursive part\n",
        "    else:\n",
        "        residual_tree = answer\n",
        "        return classify_example(example, residual_tree)"
      ],
      "execution_count": null,
      "outputs": []
    },
    {
      "cell_type": "code",
      "metadata": {
        "id": "XAQyfR8IAWll",
        "outputId": "43895152-4944-4067-f040-d2b5419add2b"
      },
      "source": [
        "classify_example(example, tree)"
      ],
      "execution_count": null,
      "outputs": [
        {
          "output_type": "execute_result",
          "data": {
            "text/plain": [
              "1.0"
            ]
          },
          "metadata": {
            "tags": []
          },
          "execution_count": 20
        }
      ]
    },
    {
      "cell_type": "markdown",
      "metadata": {
        "id": "zFLMfmA2AWll"
      },
      "source": [
        "#### Accuracy"
      ]
    },
    {
      "cell_type": "code",
      "metadata": {
        "id": "Vz9n7LB9AWll"
      },
      "source": [
        "def calculate_accuracy(df, tree):\n",
        "\n",
        "    df[\"classification\"] = df.apply(classify_example, axis=1, args=(tree,))\n",
        "    df[\"classification_correct\"] = df[\"classification\"] == df[\"target\"]\n",
        "    \n",
        "    accuracy = df[\"classification_correct\"].mean()\n",
        "    \n",
        "    return accuracy"
      ],
      "execution_count": null,
      "outputs": []
    },
    {
      "cell_type": "code",
      "metadata": {
        "id": "wpVA78ngAWlm",
        "outputId": "1bd61110-e04a-405f-9c63-0d774ec8fefd"
      },
      "source": [
        "accuracy_infogain = calculate_accuracy(test_df, tree)\n",
        "accuracy_infogain"
      ],
      "execution_count": null,
      "outputs": [
        {
          "output_type": "execute_result",
          "data": {
            "text/plain": [
              "0.8333333333333334"
            ]
          },
          "metadata": {
            "tags": []
          },
          "execution_count": 22
        }
      ]
    },
    {
      "cell_type": "markdown",
      "metadata": {
        "id": "NVnsv6RgAWlm"
      },
      "source": [
        "# decision tree classifier using sklearn"
      ]
    },
    {
      "cell_type": "code",
      "metadata": {
        "id": "T1PFdv6wAWlm",
        "outputId": "9b279ea9-05b9-4ea2-8322-77201f4ae7d5"
      },
      "source": [
        "df = pd.read_csv('heart.csv')\n",
        "df.shape"
      ],
      "execution_count": null,
      "outputs": [
        {
          "output_type": "execute_result",
          "data": {
            "text/plain": [
              "(303, 14)"
            ]
          },
          "metadata": {
            "tags": []
          },
          "execution_count": 23
        }
      ]
    },
    {
      "cell_type": "code",
      "metadata": {
        "id": "i0kTm3AnAWlm",
        "outputId": "e00d2f2c-c866-49bb-c5ba-3b903809cd98"
      },
      "source": [
        "label = df['target']\n",
        "feature_cols = ['age','sex','cp','trestbps','chol','fbs','restecg','thalach','exang','oldpeak','slope','ca','thal']\n",
        "df.drop(['target'], axis = 1, inplace = True)\n",
        "df = df.values\n",
        "samples,features = df.shape\n",
        "print(samples,features)"
      ],
      "execution_count": null,
      "outputs": [
        {
          "output_type": "stream",
          "text": [
            "303 13\n"
          ],
          "name": "stdout"
        }
      ]
    },
    {
      "cell_type": "code",
      "metadata": {
        "id": "FMJUXW-0AWlm",
        "outputId": "af05f854-6356-43c1-996b-8ea57d4c3085"
      },
      "source": [
        "data = df.astype(np.float)\n",
        "data.shape"
      ],
      "execution_count": null,
      "outputs": [
        {
          "output_type": "execute_result",
          "data": {
            "text/plain": [
              "(303, 13)"
            ]
          },
          "metadata": {
            "tags": []
          },
          "execution_count": 25
        }
      ]
    },
    {
      "cell_type": "code",
      "metadata": {
        "id": "kQA3vqJlAWln"
      },
      "source": [
        "from sklearn.model_selection import train_test_split\n",
        "X_train, X_test, y_train, y_test = train_test_split(data, label, test_size=0.3,random_state=100)"
      ],
      "execution_count": null,
      "outputs": []
    },
    {
      "cell_type": "code",
      "metadata": {
        "id": "id9kgSzXAWln"
      },
      "source": [
        "from sklearn.tree import DecisionTreeClassifier\n",
        "from sklearn import metrics\n",
        "clf = DecisionTreeClassifier(criterion='entropy', max_depth=3,min_samples_split=2)\n",
        "clf = clf.fit(X_train,y_train)\n",
        "y_pred = clf.predict(X_test)"
      ],
      "execution_count": null,
      "outputs": []
    },
    {
      "cell_type": "code",
      "metadata": {
        "id": "iEyD0jDNAWln",
        "outputId": "b7e897eb-b931-4153-9ea6-11d7299ebc36"
      },
      "source": [
        "Accuracy_decisiontreeSKLEARN = metrics.accuracy_score(y_test, y_pred)\n",
        "Accuracy_decisiontreeSKLEARN"
      ],
      "execution_count": null,
      "outputs": [
        {
          "output_type": "execute_result",
          "data": {
            "text/plain": [
              "0.8241758241758241"
            ]
          },
          "metadata": {
            "tags": []
          },
          "execution_count": 28
        }
      ]
    },
    {
      "cell_type": "markdown",
      "metadata": {
        "id": "UaRKWuv2AWln"
      },
      "source": [
        "# Logistic regression classifier using sklearn"
      ]
    },
    {
      "cell_type": "code",
      "metadata": {
        "id": "M-eL-J3yAWln"
      },
      "source": [
        "from sklearn.linear_model import LogisticRegression\n",
        "from sklearn import metrics"
      ],
      "execution_count": null,
      "outputs": []
    },
    {
      "cell_type": "code",
      "metadata": {
        "id": "dpa-LpVqAWln"
      },
      "source": [
        "from sklearn.linear_model import LogisticRegression\n",
        "from sklearn import metrics\n",
        "logisticRegr = LogisticRegression(max_iter=1000)\n",
        "clf = logisticRegr.fit(X_train, y_train)\n",
        "y_pred = logisticRegr.predict(X_test)"
      ],
      "execution_count": null,
      "outputs": []
    },
    {
      "cell_type": "code",
      "metadata": {
        "id": "AEhkEvE_AWlo",
        "outputId": "367ea2cf-014b-4d31-e531-7ec8e2546e4e"
      },
      "source": [
        "Accuracy_logisticregressionSKLEARN = metrics.accuracy_score(y_test, y_pred)\n",
        "Accuracy_logisticregressionSKLEARN"
      ],
      "execution_count": null,
      "outputs": [
        {
          "output_type": "execute_result",
          "data": {
            "text/plain": [
              "0.8571428571428571"
            ]
          },
          "metadata": {
            "tags": []
          },
          "execution_count": 31
        }
      ]
    },
    {
      "cell_type": "code",
      "metadata": {
        "id": "bnoPUxK1AWlo",
        "outputId": "b3cf0fa4-477d-4fa3-e343-6f904c7ddd9b"
      },
      "source": [
        "import matplotlib.pyplot as plt\n",
        "\n",
        "x = [accuracy_infogain, Accuracy_decisiontreeSKLEARN, Accuracy_logisticregressionSKLEARN]\n",
        "plt.hist(x, bins=20)\n",
        "print('The accuracy of different model is as shown below:')\n",
        "plt.show()\n",
        "print('decisiontree  infogain             logisticregression')\n",
        "print(\" 0.824175      0.8333                   0.85714\")"
      ],
      "execution_count": null,
      "outputs": [
        {
          "output_type": "stream",
          "text": [
            "The accuracy of different model is as shown below:\n"
          ],
          "name": "stdout"
        },
        {
          "output_type": "display_data",
          "data": {
            "image/png": "[encoded data removed]",
            "text/plain": [
              "<Figure size 432x288 with 1 Axes>"
            ]
          },
          "metadata": {
            "tags": [],
            "needs_background": "light"
          }
        },
        {
          "output_type": "stream",
          "text": [
            "decisiontree  infogain             logisticregression\n",
            " 0.824175      0.8333                   0.85714\n"
          ],
          "name": "stdout"
        }
      ]
    },
    {
      "cell_type": "markdown",
      "metadata": {
        "id": "-S4_etlWAWlo"
      },
      "source": [
        "### CONCLUSION\n",
        "Our Decision tree model using Information gain gives accuracy closer to that by SKLEARN."
      ]
    }
  ]
}
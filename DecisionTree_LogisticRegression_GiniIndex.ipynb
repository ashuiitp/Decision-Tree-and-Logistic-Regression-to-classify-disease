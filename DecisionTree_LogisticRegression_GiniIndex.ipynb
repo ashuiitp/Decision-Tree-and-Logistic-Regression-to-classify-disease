{
  "nbformat": 4,
  "nbformat_minor": 0,
  "metadata": {
    "kernelspec": {
      "display_name": "Python 3",
      "language": "python",
      "name": "python3"
    },
    "language_info": {
      "codemirror_mode": {
        "name": "ipython",
        "version": 3
      },
      "file_extension": ".py",
      "mimetype": "text/x-python",
      "name": "python",
      "nbconvert_exporter": "python",
      "pygments_lexer": "ipython3",
      "version": "3.8.3"
    },
    "colab": {
      "name": "github_DecisiontTreeu_Gini.ipynb",
      "provenance": [],
      "collapsed_sections": [
        "KuET4SwDATzb",
        "i8-0c7zBATzc",
        "KyA_5D82ATzf",
        "v2BBlrrrATzf"
      ]
    }
  },
  "cells": [
    {
      "cell_type": "markdown",
      "metadata": {
        "id": "BQIGXTI-ATzC"
      },
      "source": [
        "# DECISION TREE CODE BASED ON GINI INDEX"
      ]
    },
    {
      "cell_type": "code",
      "metadata": {
        "id": "2vdT9uPVATzP"
      },
      "source": [
        "import numpy as np\n",
        "import pandas as pd\n",
        "import random\n",
        "from pprint import pprint"
      ],
      "execution_count": null,
      "outputs": []
    },
    {
      "cell_type": "code",
      "metadata": {
        "id": "7DE46arSATzR",
        "outputId": "a49ef449-2428-4a0b-89bd-ac417bd71481"
      },
      "source": [
        "df = pd.read_csv('heart.csv')\n",
        "df.shape"
      ],
      "execution_count": null,
      "outputs": [
        {
          "output_type": "execute_result",
          "data": {
            "text/plain": [
              "(303, 14)"
            ]
          },
          "metadata": {
            "tags": []
          },
          "execution_count": 56
        }
      ]
    },
    {
      "cell_type": "code",
      "metadata": {
        "id": "vliV2GNXATzV",
        "outputId": "b79e866e-20bc-46a4-d8e0-e4915a16fd61"
      },
      "source": [
        "df.head()"
      ],
      "execution_count": null,
      "outputs": [
        {
          "output_type": "execute_result",
          "data": {
            "text/html": [
              "<div>\n",
              "<style scoped>\n",
              "    .dataframe tbody tr th:only-of-type {\n",
              "        vertical-align: middle;\n",
              "    }\n",
              "\n",
              "    .dataframe tbody tr th {\n",
              "        vertical-align: top;\n",
              "    }\n",
              "\n",
              "    .dataframe thead th {\n",
              "        text-align: right;\n",
              "    }\n",
              "</style>\n",
              "<table border=\"1\" class=\"dataframe\">\n",
              "  <thead>\n",
              "    <tr style=\"text-align: right;\">\n",
              "      <th></th>\n",
              "      <th>age</th>\n",
              "      <th>sex</th>\n",
              "      <th>cp</th>\n",
              "      <th>trestbps</th>\n",
              "      <th>chol</th>\n",
              "      <th>fbs</th>\n",
              "      <th>restecg</th>\n",
              "      <th>thalach</th>\n",
              "      <th>exang</th>\n",
              "      <th>oldpeak</th>\n",
              "      <th>slope</th>\n",
              "      <th>ca</th>\n",
              "      <th>thal</th>\n",
              "      <th>target</th>\n",
              "    </tr>\n",
              "  </thead>\n",
              "  <tbody>\n",
              "    <tr>\n",
              "      <th>0</th>\n",
              "      <td>63</td>\n",
              "      <td>1</td>\n",
              "      <td>3</td>\n",
              "      <td>145</td>\n",
              "      <td>233</td>\n",
              "      <td>1</td>\n",
              "      <td>0</td>\n",
              "      <td>150</td>\n",
              "      <td>0</td>\n",
              "      <td>2.3</td>\n",
              "      <td>0</td>\n",
              "      <td>0</td>\n",
              "      <td>1</td>\n",
              "      <td>1</td>\n",
              "    </tr>\n",
              "    <tr>\n",
              "      <th>1</th>\n",
              "      <td>37</td>\n",
              "      <td>1</td>\n",
              "      <td>2</td>\n",
              "      <td>130</td>\n",
              "      <td>250</td>\n",
              "      <td>0</td>\n",
              "      <td>1</td>\n",
              "      <td>187</td>\n",
              "      <td>0</td>\n",
              "      <td>3.5</td>\n",
              "      <td>0</td>\n",
              "      <td>0</td>\n",
              "      <td>2</td>\n",
              "      <td>1</td>\n",
              "    </tr>\n",
              "    <tr>\n",
              "      <th>2</th>\n",
              "      <td>41</td>\n",
              "      <td>0</td>\n",
              "      <td>1</td>\n",
              "      <td>130</td>\n",
              "      <td>204</td>\n",
              "      <td>0</td>\n",
              "      <td>0</td>\n",
              "      <td>172</td>\n",
              "      <td>0</td>\n",
              "      <td>1.4</td>\n",
              "      <td>2</td>\n",
              "      <td>0</td>\n",
              "      <td>2</td>\n",
              "      <td>1</td>\n",
              "    </tr>\n",
              "    <tr>\n",
              "      <th>3</th>\n",
              "      <td>56</td>\n",
              "      <td>1</td>\n",
              "      <td>1</td>\n",
              "      <td>120</td>\n",
              "      <td>236</td>\n",
              "      <td>0</td>\n",
              "      <td>1</td>\n",
              "      <td>178</td>\n",
              "      <td>0</td>\n",
              "      <td>0.8</td>\n",
              "      <td>2</td>\n",
              "      <td>0</td>\n",
              "      <td>2</td>\n",
              "      <td>1</td>\n",
              "    </tr>\n",
              "    <tr>\n",
              "      <th>4</th>\n",
              "      <td>57</td>\n",
              "      <td>0</td>\n",
              "      <td>0</td>\n",
              "      <td>120</td>\n",
              "      <td>354</td>\n",
              "      <td>0</td>\n",
              "      <td>1</td>\n",
              "      <td>163</td>\n",
              "      <td>1</td>\n",
              "      <td>0.6</td>\n",
              "      <td>2</td>\n",
              "      <td>0</td>\n",
              "      <td>2</td>\n",
              "      <td>1</td>\n",
              "    </tr>\n",
              "  </tbody>\n",
              "</table>\n",
              "</div>"
            ],
            "text/plain": [
              "   age  sex  cp  trestbps  chol  fbs  restecg  thalach  exang  oldpeak  slope  \\\n",
              "0   63    1   3       145   233    1        0      150      0      2.3      0   \n",
              "1   37    1   2       130   250    0        1      187      0      3.5      0   \n",
              "2   41    0   1       130   204    0        0      172      0      1.4      2   \n",
              "3   56    1   1       120   236    0        1      178      0      0.8      2   \n",
              "4   57    0   0       120   354    0        1      163      1      0.6      2   \n",
              "\n",
              "   ca  thal  target  \n",
              "0   0     1       1  \n",
              "1   0     2       1  \n",
              "2   0     2       1  \n",
              "3   0     2       1  \n",
              "4   0     2       1  "
            ]
          },
          "metadata": {
            "tags": []
          },
          "execution_count": 57
        }
      ]
    },
    {
      "cell_type": "markdown",
      "metadata": {
        "id": "HOQ9dY2-ATzW"
      },
      "source": [
        "#### Split training and testing data"
      ]
    },
    {
      "cell_type": "code",
      "metadata": {
        "id": "gqEwXGFDATzW"
      },
      "source": [
        "def train_test_split(df, test_size):\n",
        "    \n",
        "    if isinstance(test_size, float):\n",
        "        test_size = round(test_size * len(df))\n",
        "    indices = df.index.tolist()\n",
        "    test_indices = random.sample(population=indices, k=test_size)\n",
        "    test_df = df.loc[test_indices]\n",
        "    train_df = df.drop(test_indices)\n",
        "    \n",
        "    return train_df, test_df"
      ],
      "execution_count": null,
      "outputs": []
    },
    {
      "cell_type": "code",
      "metadata": {
        "id": "Y0csfWnGATzW"
      },
      "source": [
        "random.seed(100)\n",
        "train_df, test_df = train_test_split(df, test_size=30)"
      ],
      "execution_count": null,
      "outputs": []
    },
    {
      "cell_type": "code",
      "metadata": {
        "id": "-rvz39ZSATzX"
      },
      "source": [
        "data = train_df.values"
      ],
      "execution_count": null,
      "outputs": []
    },
    {
      "cell_type": "markdown",
      "metadata": {
        "id": "UM_iDSvTATzX"
      },
      "source": [
        "#### Check for unique class"
      ]
    },
    {
      "cell_type": "code",
      "metadata": {
        "id": "1T9HhysxATzX"
      },
      "source": [
        "def check_purity(data):\n",
        "    \n",
        "    label_column = data[:, -1]\n",
        "    unique_classes = np.unique(label_column)\n",
        "\n",
        "    if len(unique_classes) == 1:\n",
        "        return True\n",
        "    else:\n",
        "        return False"
      ],
      "execution_count": null,
      "outputs": []
    },
    {
      "cell_type": "code",
      "metadata": {
        "id": "IjtlVnUUATzY"
      },
      "source": [
        "def classify_data(data):\n",
        "    \n",
        "    label_column = data[:, -1]\n",
        "    unique_classes, counts_unique_classes = np.unique(label_column, return_counts=True)\n",
        "\n",
        "    index = counts_unique_classes.argmax()\n",
        "    classification = unique_classes[index]\n",
        "    \n",
        "    return classification"
      ],
      "execution_count": null,
      "outputs": []
    },
    {
      "cell_type": "markdown",
      "metadata": {
        "id": "nrnpOy8FATzY"
      },
      "source": [
        "#### Potential splits"
      ]
    },
    {
      "cell_type": "code",
      "metadata": {
        "id": "6tvxB2b9ATzY"
      },
      "source": [
        "def get_potential_splits(data):\n",
        "    \n",
        "    potential_splits = {}\n",
        "    _, n_columns = data.shape\n",
        "    for column_idx in range(n_columns - 1):        \n",
        "        potential_splits[column_idx] = []\n",
        "        values = data[:, column_idx]\n",
        "        unique_values = np.unique(values)\n",
        "\n",
        "        for i in range(len(unique_values)):\n",
        "            if i != 0:\n",
        "                current_value = unique_values[i]\n",
        "                previous_value = unique_values[i - 1]\n",
        "                potential_split = (current_value + previous_value) / 2\n",
        "                \n",
        "                potential_splits[column_idx].append(potential_split)\n",
        "    \n",
        "    return potential_splits"
      ],
      "execution_count": null,
      "outputs": []
    },
    {
      "cell_type": "code",
      "metadata": {
        "id": "yIMQTVSSATzZ"
      },
      "source": [
        "def split_data(data, split_column, split_value):\n",
        "    \n",
        "    split_column_values = data[:, split_column]\n",
        "\n",
        "    data_below = data[split_column_values <= split_value]\n",
        "    data_above = data[split_column_values >  split_value]\n",
        "    \n",
        "    return data_below, data_above"
      ],
      "execution_count": null,
      "outputs": []
    },
    {
      "cell_type": "markdown",
      "metadata": {
        "id": "MnWSmzMqATza"
      },
      "source": [
        "#### gini index calculation"
      ]
    },
    {
      "cell_type": "code",
      "metadata": {
        "id": "P9ofPZAUATzb"
      },
      "source": [
        "def calculate_gini(data):\n",
        "    \n",
        "    label_column = data[:, -1]\n",
        "    _, counts = np.unique(label_column, return_counts=True)\n",
        "\n",
        "    probabilities = counts / counts.sum()\n",
        "    gini = 1 - sum(probabilities**2)\n",
        "     \n",
        "    return gini"
      ],
      "execution_count": null,
      "outputs": []
    },
    {
      "cell_type": "code",
      "metadata": {
        "id": "-8uD5rKLATzb"
      },
      "source": [
        "#calculate overall informaton gain for the splits \n",
        "def calculate_overall_gini(data_below, data_above):\n",
        "    \n",
        "    n = len(data_below) + len(data_above)\n",
        "    p_data_below = len(data_below) / n\n",
        "    p_data_above = len(data_above) / n\n",
        "\n",
        "    overall_gini =  (p_data_below * calculate_gini(data_below) + p_data_above * calculate_gini(data_above))\n",
        "    \n",
        "    return overall_gini"
      ],
      "execution_count": null,
      "outputs": []
    },
    {
      "cell_type": "markdown",
      "metadata": {
        "id": "KuET4SwDATzb"
      },
      "source": [
        "#### Best split "
      ]
    },
    {
      "cell_type": "code",
      "metadata": {
        "id": "blsL8VTCATzb"
      },
      "source": [
        "def determine_best_split(data, potential_splits):\n",
        "    \n",
        "    overall_gini = 9999\n",
        "    for column_index in potential_splits:\n",
        "        for value in potential_splits[column_index]:\n",
        "            data_below, data_above = split_data(data, split_column=column_index, split_value=value)\n",
        "            current_overall_gini = calculate_overall_gini(data_below, data_above)\n",
        "\n",
        "            if current_overall_gini <= overall_gini:\n",
        "                overall_gini = current_overall_gini\n",
        "                best_split_column = column_index\n",
        "                best_split_value = value\n",
        "    \n",
        "    return best_split_column, best_split_value"
      ],
      "execution_count": null,
      "outputs": []
    },
    {
      "cell_type": "code",
      "metadata": {
        "id": "HQmfMVOOATzc"
      },
      "source": [
        "sub_tree = {\"question\": [\"yes_answer\", \n",
        "                         \"no_answer\"]}"
      ],
      "execution_count": null,
      "outputs": []
    },
    {
      "cell_type": "markdown",
      "metadata": {
        "id": "i8-0c7zBATzc"
      },
      "source": [
        "#### Algorithm"
      ]
    },
    {
      "cell_type": "code",
      "metadata": {
        "id": "fuVgHN0KATzc"
      },
      "source": [
        "def decision_tree_algorithm(df, counter=0, min_samples=2, max_depth=3):\n",
        "    \n",
        "    # data preparations\n",
        "    if counter == 0:\n",
        "        global COLUMN_HEADERS\n",
        "        COLUMN_HEADERS = df.columns\n",
        "        data = df.values\n",
        "    else:\n",
        "        data = df           \n",
        "    \n",
        "    \n",
        "    # base cases\n",
        "    if (check_purity(data)) or (len(data) < min_samples) or (counter == max_depth):\n",
        "        classification = classify_data(data)\n",
        "        \n",
        "        return classification\n",
        "\n",
        "    \n",
        "    # recursive part\n",
        "    else:    \n",
        "        counter += 1\n",
        "\n",
        "        # helper functions \n",
        "        potential_splits = get_potential_splits(data)\n",
        "        split_column, split_value = determine_best_split(data, potential_splits)\n",
        "        data_below, data_above = split_data(data, split_column, split_value)\n",
        "        \n",
        "        # sub-tree\n",
        "        feature_name = COLUMN_HEADERS[split_column]\n",
        "        question = \"{} <= {}\".format(feature_name, split_value)\n",
        "        sub_tree = {question: []}\n",
        "        \n",
        "        # find answers (recursion)\n",
        "        yes_answer = decision_tree_algorithm(data_below, counter, min_samples, max_depth)\n",
        "        no_answer = decision_tree_algorithm(data_above, counter, min_samples, max_depth)\n",
        "        \n",
        "    \n",
        "        if yes_answer == no_answer:\n",
        "            sub_tree = yes_answer\n",
        "        else:\n",
        "            sub_tree[question].append(yes_answer)\n",
        "            sub_tree[question].append(no_answer)\n",
        "        \n",
        "        return sub_tree"
      ],
      "execution_count": null,
      "outputs": []
    },
    {
      "cell_type": "code",
      "metadata": {
        "id": "V4qtj_zSATzd",
        "outputId": "673a290b-4070-4b00-98de-45720a28e5e7"
      },
      "source": [
        "tree = decision_tree_algorithm(train_df, max_depth=3)\n",
        "pprint(tree)"
      ],
      "execution_count": null,
      "outputs": [
        {
          "output_type": "stream",
          "text": [
            "{'cp <= 0.5': [{'ca <= 0.5': [{'thal <= 2.5': [1.0, 0.0]}, 0.0]},\n",
            "               {'age <= 56.5': [1.0, {'sex <= 0.5': [1.0, 0.0]}]}]}\n"
          ],
          "name": "stdout"
        }
      ]
    },
    {
      "cell_type": "code",
      "metadata": {
        "id": "psKLqJwOATze",
        "outputId": "214de0a0-7a5d-48a5-e69c-250b1b8ffa60"
      },
      "source": [
        "sub_tree"
      ],
      "execution_count": null,
      "outputs": [
        {
          "output_type": "execute_result",
          "data": {
            "text/plain": [
              "{'question': ['yes_answer', 'no_answer']}"
            ]
          },
          "metadata": {
            "tags": []
          },
          "execution_count": 71
        }
      ]
    },
    {
      "cell_type": "code",
      "metadata": {
        "id": "Ag6QKjAdATze",
        "outputId": "3a5835bc-3150-4301-e6d5-24e454e4aafb"
      },
      "source": [
        "example = test_df.iloc[0]\n",
        "example"
      ],
      "execution_count": null,
      "outputs": [
        {
          "output_type": "execute_result",
          "data": {
            "text/plain": [
              "age          43.0\n",
              "sex           0.0\n",
              "cp            2.0\n",
              "trestbps    122.0\n",
              "chol        213.0\n",
              "fbs           0.0\n",
              "restecg       1.0\n",
              "thalach     165.0\n",
              "exang         0.0\n",
              "oldpeak       0.2\n",
              "slope         1.0\n",
              "ca            0.0\n",
              "thal          2.0\n",
              "target        1.0\n",
              "Name: 74, dtype: float64"
            ]
          },
          "metadata": {
            "tags": []
          },
          "execution_count": 72
        }
      ]
    },
    {
      "cell_type": "markdown",
      "metadata": {
        "id": "KyA_5D82ATzf"
      },
      "source": [
        "#### Classification"
      ]
    },
    {
      "cell_type": "code",
      "metadata": {
        "id": "aTsDEU2tATzf"
      },
      "source": [
        "def classify_example(example, tree):\n",
        "    question = list(tree.keys())[0]\n",
        "    feature_name, comparison_operator, value = question.split()\n",
        "\n",
        "    # ask question\n",
        "    if example[feature_name] <= float(value):\n",
        "        answer = tree[question][0]\n",
        "    else:\n",
        "        answer = tree[question][1]\n",
        "\n",
        "    # base case\n",
        "    if not isinstance(answer, dict):\n",
        "        return answer\n",
        "    \n",
        "    # recursive part\n",
        "    else:\n",
        "        residual_tree = answer\n",
        "        return classify_example(example, residual_tree)"
      ],
      "execution_count": null,
      "outputs": []
    },
    {
      "cell_type": "code",
      "metadata": {
        "id": "_USIMadeATzf",
        "outputId": "10e3bcad-e98a-4fcb-9846-221284542f7e"
      },
      "source": [
        "classify_example(example, tree)"
      ],
      "execution_count": null,
      "outputs": [
        {
          "output_type": "execute_result",
          "data": {
            "text/plain": [
              "1.0"
            ]
          },
          "metadata": {
            "tags": []
          },
          "execution_count": 74
        }
      ]
    },
    {
      "cell_type": "markdown",
      "metadata": {
        "id": "v2BBlrrrATzf"
      },
      "source": [
        "#### Accuracy"
      ]
    },
    {
      "cell_type": "code",
      "metadata": {
        "id": "ruvhTXIMATzg"
      },
      "source": [
        "def calculate_accuracy(df, tree):\n",
        "\n",
        "    df[\"classification\"] = df.apply(classify_example, axis=1, args=(tree,))\n",
        "    df[\"classification_correct\"] = df[\"classification\"] == df[\"target\"]\n",
        "    \n",
        "    accuracy = df[\"classification_correct\"].mean()\n",
        "    \n",
        "    return accuracy"
      ],
      "execution_count": null,
      "outputs": []
    },
    {
      "cell_type": "code",
      "metadata": {
        "id": "tYcMWX5kATzh",
        "outputId": "b6d1192a-d2cc-4222-fe88-76694449a857"
      },
      "source": [
        "accuracy_gini = calculate_accuracy(test_df, tree)\n",
        "accuracy_gini"
      ],
      "execution_count": null,
      "outputs": [
        {
          "output_type": "execute_result",
          "data": {
            "text/plain": [
              "0.8333333333333334"
            ]
          },
          "metadata": {
            "tags": []
          },
          "execution_count": 77
        }
      ]
    },
    {
      "cell_type": "markdown",
      "metadata": {
        "id": "ZEomysEtATzh"
      },
      "source": [
        "# decision tree classifier using sklearn"
      ]
    },
    {
      "cell_type": "code",
      "metadata": {
        "id": "SOUswfaaATzi",
        "outputId": "d8b7a8ca-0ec3-4350-c06d-baec419fef99"
      },
      "source": [
        "df = pd.read_csv('heart.csv')\n",
        "df.shape"
      ],
      "execution_count": null,
      "outputs": [
        {
          "output_type": "execute_result",
          "data": {
            "text/plain": [
              "(303, 14)"
            ]
          },
          "metadata": {
            "tags": []
          },
          "execution_count": 78
        }
      ]
    },
    {
      "cell_type": "code",
      "metadata": {
        "id": "81eJ_bU8ATzo",
        "outputId": "6fdac08c-7cbb-40ce-98e4-e10341b86eda"
      },
      "source": [
        "label = df['target']\n",
        "feature_cols = ['age','sex','cp','trestbps','chol','fbs','restecg','thalach','exang','oldpeak','slope','ca','thal']\n",
        "df.drop(['target'], axis = 1, inplace = True)\n",
        "df = df.values\n",
        "samples,features = df.shape\n",
        "print(samples,features)"
      ],
      "execution_count": null,
      "outputs": [
        {
          "output_type": "stream",
          "text": [
            "303 13\n"
          ],
          "name": "stdout"
        }
      ]
    },
    {
      "cell_type": "code",
      "metadata": {
        "id": "r3TNussnATzp",
        "outputId": "623123d6-7c3b-4cb5-e349-ceed64c6c045"
      },
      "source": [
        "data = df.astype(np.float)\n",
        "data.shape"
      ],
      "execution_count": null,
      "outputs": [
        {
          "output_type": "execute_result",
          "data": {
            "text/plain": [
              "(303, 13)"
            ]
          },
          "metadata": {
            "tags": []
          },
          "execution_count": 80
        }
      ]
    },
    {
      "cell_type": "code",
      "metadata": {
        "id": "ZpjObubiATzr"
      },
      "source": [
        "from sklearn.model_selection import train_test_split\n",
        "X_train, X_test, y_train, y_test = train_test_split(data, label, test_size=0.3,random_state=100)"
      ],
      "execution_count": null,
      "outputs": []
    },
    {
      "cell_type": "code",
      "metadata": {
        "id": "9ArIztnJATzs"
      },
      "source": [
        "from sklearn.tree import DecisionTreeClassifier\n",
        "from sklearn import metrics\n",
        "clf = DecisionTreeClassifier(criterion='gini', max_depth=3,min_samples_split=2)\n",
        "clf = clf.fit(X_train,y_train)\n",
        "y_pred = clf.predict(X_test)"
      ],
      "execution_count": null,
      "outputs": []
    },
    {
      "cell_type": "code",
      "metadata": {
        "id": "Mx16C1psATzs",
        "outputId": "83eb3f85-6273-447c-f88a-2a3980e7b0bf"
      },
      "source": [
        "Accuracy_decisiontreeSKLEARN = metrics.accuracy_score(y_test, y_pred)\n",
        "Accuracy_decisiontreeSKLEARN"
      ],
      "execution_count": null,
      "outputs": [
        {
          "output_type": "execute_result",
          "data": {
            "text/plain": [
              "0.8351648351648352"
            ]
          },
          "metadata": {
            "tags": []
          },
          "execution_count": 83
        }
      ]
    },
    {
      "cell_type": "markdown",
      "metadata": {
        "id": "Ea139YSJATzs"
      },
      "source": [
        "# Logistic regression classifier using sklearn"
      ]
    },
    {
      "cell_type": "code",
      "metadata": {
        "id": "RmrqMVWYATzt"
      },
      "source": [
        "from sklearn.linear_model import LogisticRegression\n",
        "from sklearn import metrics"
      ],
      "execution_count": null,
      "outputs": []
    },
    {
      "cell_type": "code",
      "metadata": {
        "id": "pGr1Koe6ATzt"
      },
      "source": [
        "from sklearn.linear_model import LogisticRegression\n",
        "from sklearn import metrics\n",
        "logisticRegr = LogisticRegression(max_iter=1000)\n",
        "clf = logisticRegr.fit(X_train, y_train)\n",
        "y_pred = logisticRegr.predict(X_test)"
      ],
      "execution_count": null,
      "outputs": []
    },
    {
      "cell_type": "code",
      "metadata": {
        "id": "6k1qGccwATzt",
        "outputId": "7ec530d5-930d-44e7-8e5c-442b85d683ca"
      },
      "source": [
        "Accuracy_logisticregressionSKLEARN = metrics.accuracy_score(y_test, y_pred)\n",
        "Accuracy_logisticregressionSKLEARN"
      ],
      "execution_count": null,
      "outputs": [
        {
          "output_type": "execute_result",
          "data": {
            "text/plain": [
              "0.8571428571428571"
            ]
          },
          "metadata": {
            "tags": []
          },
          "execution_count": 86
        }
      ]
    },
    {
      "cell_type": "code",
      "metadata": {
        "id": "fNYekj2hATzu",
        "outputId": "a14137e6-6e2e-4344-8c5d-7db10e8c68d3"
      },
      "source": [
        "import matplotlib.pyplot as plt\n",
        "\n",
        "x =[accuracy_gini,Accuracy_decisiontreeSKLEARN,Accuracy_logisticregressionSKLEARN]\n",
        "plt.hist(x,bins=50)\n",
        "plt.show()\n",
        "print('  gini  decisiontree       logisticregression')\n",
        "print(\"  0.833    0.83516           0.85714\")"
      ],
      "execution_count": null,
      "outputs": [
        {
          "output_type": "display_data",
          "data": {
            "image/png": "[encoded data removed]",
            "text/plain": [
              "<Figure size 432x288 with 1 Axes>"
            ]
          },
          "metadata": {
            "tags": [],
            "needs_background": "light"
          }
        },
        {
          "output_type": "stream",
          "text": [
            "  gini  decisiontree       logisticregression\n",
            "  0.833    0.83516           0.85714\n"
          ],
          "name": "stdout"
        }
      ]
    },
    {
      "cell_type": "markdown",
      "metadata": {
        "id": "heFBs-qeATzu"
      },
      "source": [
        "### CONCLUSION\n",
        "Our Decision tree model using gini index gives accuracy closer to that by SKLEARN."
      ]
    }
  ]
}